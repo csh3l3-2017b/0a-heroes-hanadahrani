{
 "cells": [
  {
   "cell_type": "code",
   "execution_count": 26,
   "metadata": {},
   "outputs": [
    {
     "name": "stdout",
     "output_type": "stream",
     "text": [
      "test_Set:  53\n"
     ]
    }
   ],
   "source": [
    "import csv\n",
    "\n",
    "#data yang ditampikan            \n",
    "def loadDataset(file):\n",
    "    dataTst = []\n",
    "\n",
    "    with open(file) as csvfile2:\n",
    "        lines = csv.reader(csvfile2)\n",
    "        dataset = list(lines)\n",
    "\n",
    "        for p1 in range(53):\n",
    "            for p2 in range(5):\n",
    "                dataset[p1][p2] = dataset[p1][p2]\n",
    "            dataTst.append(dataset[p1])\n",
    "    return dataTst\n",
    "\n",
    "#save data ke excel (.csv)\n",
    "def saveToCsv(output):\n",
    "    with open('./prediction.csv', 'w', newline='') as csvfile:\n",
    "        lines = csv.writer(csvfile)\n",
    "\n",
    "        for p1 in range(len(output)):\n",
    "            lines.writerow(output[p1])\n",
    "            \n",
    "#main function\n",
    "def main():\n",
    "\n",
    "    testSet = []\n",
    "    testSet = loadDataset('./test.csv')\n",
    "    print('test_Set: ', repr(len(testSet)))\n",
    "    \n",
    "    output = []\n",
    "    for p1 in range(1,53):\n",
    "        \n",
    "        if int(testSet[p1][1]) >= 270:\n",
    "            output.append([testSet[p1][0], 'MARKSMAN'])\n",
    "        elif int(testSet[p1][5]) >= 500:\n",
    "            output.append([testSet[p1][0], 'MAGE'])\n",
    "        elif int(testSet[p1][3]) >= 25:\n",
    "            output.append([testSet[p1][0], 'TANK'])\n",
    "        elif int(testSet[p1][2]) >= 121:\n",
    "            output.append([testSet[p1][0], 'ASSASSIN'])\n",
    "        elif int(testSet[p1][4]) >= 2580:\n",
    "            output.append([testSet[p1][0], 'FIGHTER'])\n",
    "        else:\n",
    "            output.append([testSet[p1][0], 'SUPPORT'])\n",
    "    \n",
    "    output.insert(0, ['Name', 'ROLE'])\n",
    "    saveToCsv(output)\n",
    "    \n",
    "main()\n",
    "\n",
    "# IF-39-02\n",
    "# 1301178600\n",
    "# Hana Aprillia D"
   ]
  },
  {
   "cell_type": "code",
   "execution_count": null,
   "metadata": {
    "collapsed": true
   },
   "outputs": [],
   "source": []
  },
  {
   "cell_type": "code",
   "execution_count": null,
   "metadata": {
    "collapsed": true
   },
   "outputs": [],
   "source": []
  }
 ],
 "metadata": {
  "kernelspec": {
   "display_name": "Python 3",
   "language": "python",
   "name": "python3"
  },
  "language_info": {
   "codemirror_mode": {
    "name": "ipython",
    "version": 3
   },
   "file_extension": ".py",
   "mimetype": "text/x-python",
   "name": "python",
   "nbconvert_exporter": "python",
   "pygments_lexer": "ipython3",
   "version": "3.6.3"
  }
 },
 "nbformat": 4,
 "nbformat_minor": 2
}
